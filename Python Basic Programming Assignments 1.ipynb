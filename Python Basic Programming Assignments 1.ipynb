{
 "cells": [
  {
   "cell_type": "code",
   "execution_count": 1,
   "metadata": {},
   "outputs": [
    {
     "name": "stdout",
     "output_type": "stream",
     "text": [
      "Hello Python\n"
     ]
    }
   ],
   "source": [
    "# Program to print \"Hello Python\"\n",
    "\n",
    "print(\"Hello Python\")"
   ]
  },
  {
   "cell_type": "code",
   "execution_count": 11,
   "metadata": {},
   "outputs": [
    {
     "name": "stdout",
     "output_type": "stream",
     "text": [
      "Addition is 24 \n",
      "\n",
      "Division is 5.0\n"
     ]
    }
   ],
   "source": [
    "# Program to perform addition and division\n",
    "\n",
    "a = 20\n",
    "b = 4\n",
    "print(\"Addition is\", (a + b), \"\\n\")\n",
    "print(\"Division is\", (a / b))\n"
   ]
  },
  {
   "cell_type": "code",
   "execution_count": 5,
   "metadata": {},
   "outputs": [
    {
     "name": "stdout",
     "output_type": "stream",
     "text": [
      "Area of the triangle is 12.0\n"
     ]
    }
   ],
   "source": [
    "# Program to calculate area of a triangle\n",
    "\n",
    "base = 4\n",
    "height = 6\n",
    "area = (1/2)*base*height\n",
    "print(\"Area of the triangle is\", area)"
   ]
  },
  {
   "cell_type": "code",
   "execution_count": 7,
   "metadata": {},
   "outputs": [
    {
     "name": "stdout",
     "output_type": "stream",
     "text": [
      "a is : 3 and b is : 6 \n",
      "\n",
      "After the swap, a is : 6 and b is : 3\n"
     ]
    }
   ],
   "source": [
    "# Program to swap two numbers\n",
    "\n",
    "a, b = 3, 6\n",
    "print(\"a is :\", a, \"and b is :\", b, \"\\n\")\n",
    "a, b = b ,a\n",
    "print(\"After the swap, a is :\", a, \"and b is :\", b)\n"
   ]
  },
  {
   "cell_type": "code",
   "execution_count": 10,
   "metadata": {},
   "outputs": [
    {
     "name": "stdout",
     "output_type": "stream",
     "text": [
      "Random number between 10 and 100 is : 42\n"
     ]
    }
   ],
   "source": [
    "# Program to generate a random number\n",
    "\n",
    "import random\n",
    "\n",
    "lower_limit = 10\n",
    "upper_limit = 100\n",
    "\n",
    "print(\"Random number between 10 and 100 is :\", random.randint(lower_limit, upper_limit))"
   ]
  },
  {
   "cell_type": "code",
   "execution_count": null,
   "metadata": {},
   "outputs": [],
   "source": []
  },
  {
   "cell_type": "code",
   "execution_count": null,
   "metadata": {},
   "outputs": [],
   "source": []
  }
 ],
 "metadata": {
  "kernelspec": {
   "display_name": "Python 3",
   "language": "python",
   "name": "python3"
  },
  "language_info": {
   "codemirror_mode": {
    "name": "ipython",
    "version": 3
   },
   "file_extension": ".py",
   "mimetype": "text/x-python",
   "name": "python",
   "nbconvert_exporter": "python",
   "pygments_lexer": "ipython3",
   "version": "3.8.5"
  }
 },
 "nbformat": 4,
 "nbformat_minor": 4
}
