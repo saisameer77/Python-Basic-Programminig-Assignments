{
 "cells": [
  {
   "cell_type": "code",
   "execution_count": 1,
   "metadata": {},
   "outputs": [
    {
     "name": "stdout",
     "output_type": "stream",
     "text": [
      "Sum of all elements in list 'l' is : 55\n"
     ]
    }
   ],
   "source": [
    "#Program to find the sum of all elements in a list\n",
    "\n",
    "l = [1,2,3,4,5,6,7,8,9,10]\n",
    "s = sum(l)\n",
    "\n",
    "print(\"Sum of all elements in list 'l' is :\", s)"
   ]
  },
  {
   "cell_type": "code",
   "execution_count": 2,
   "metadata": {},
   "outputs": [
    {
     "name": "stdout",
     "output_type": "stream",
     "text": [
      "Product of all elements in list 'l' is : 3628800\n"
     ]
    }
   ],
   "source": [
    "#Program to find the sum of all elements in a list\n",
    "\n",
    "import math\n",
    "\n",
    "l = [1,2,3,4,5,6,7,8,9,10]\n",
    "p = math.prod(l)\n",
    "\n",
    "print(\"Product of all elements in list 'l' is :\", p)\n"
   ]
  },
  {
   "cell_type": "code",
   "execution_count": 3,
   "metadata": {},
   "outputs": [
    {
     "name": "stdout",
     "output_type": "stream",
     "text": [
      "Smallest number of all elements in list 'l' is : 1\n"
     ]
    }
   ],
   "source": [
    "#Program to find the smallest number in a list\n",
    "\n",
    "\n",
    "l = [1,2,3,4,5,6,7,8,9,10]\n",
    "small = min(l)\n",
    "\n",
    "print(\"Smallest number of all elements in list 'l' is :\", small)\n"
   ]
  },
  {
   "cell_type": "code",
   "execution_count": 4,
   "metadata": {},
   "outputs": [
    {
     "name": "stdout",
     "output_type": "stream",
     "text": [
      "Largest number of all elements in list 'l' is : 10\n"
     ]
    }
   ],
   "source": [
    "#Program to find the largest number in a list\n",
    "\n",
    "\n",
    "l = [1,2,3,4,5,6,7,8,9,10]\n",
    "large = max(l)\n",
    "\n",
    "print(\"Largest number of all elements in list 'l' is :\", large)\n"
   ]
  },
  {
   "cell_type": "code",
   "execution_count": 5,
   "metadata": {},
   "outputs": [
    {
     "name": "stdout",
     "output_type": "stream",
     "text": [
      "Second largest number of all elements in list 'l' is : 9\n"
     ]
    }
   ],
   "source": [
    "#Program to find the second largest number in a list\n",
    "\n",
    "\n",
    "l = [1,2,3,4,5,6,7,8,9,10]\n",
    "sorted_list = sorted(l)\n",
    "\n",
    "print(\"Second largest number of all elements in list 'l' is :\", sorted_list[-2])\n"
   ]
  },
  {
   "cell_type": "code",
   "execution_count": 6,
   "metadata": {},
   "outputs": [
    {
     "name": "stdout",
     "output_type": "stream",
     "text": [
      "Enter the value of N :3\n",
      "N largest numbers of all elements in list 'l' is : \n",
      "\n",
      "10\n",
      "9\n",
      "8\n"
     ]
    }
   ],
   "source": [
    "#Program to find the N largest numbers in a list\n",
    "\n",
    "\n",
    "l = [1,2,3,4,5,6,7,8,9,10]\n",
    "sorted_list = sorted(l)\n",
    "\n",
    "N = int(input(\"Enter the value of N :\"))\n",
    "\n",
    "print(\"N largest numbers of all elements in list 'l' is :\", \"\\n\")\n",
    "\n",
    "i = 1\n",
    "\n",
    "while i <= N:\n",
    "    print(sorted_list[-i])\n",
    "    i += 1\n",
    "\n"
   ]
  },
  {
   "cell_type": "code",
   "execution_count": 7,
   "metadata": {},
   "outputs": [
    {
     "name": "stdout",
     "output_type": "stream",
     "text": [
      "Even numbers among all elements in list 'l' is : [2, 4, 6, 8, 10]\n"
     ]
    }
   ],
   "source": [
    "#Program to find the even numbers in a list\n",
    "\n",
    "\n",
    "l = [1,2,3,4,5,6,7,8,9,10]\n",
    "\n",
    "e = [i for i in l if i % 2 == 0]\n",
    "\n",
    "print(\"Even numbers among all elements in list 'l' is :\", e)\n",
    "\n"
   ]
  },
  {
   "cell_type": "code",
   "execution_count": 8,
   "metadata": {},
   "outputs": [
    {
     "name": "stdout",
     "output_type": "stream",
     "text": [
      "Odd numbers among all elements in list 'l' is : [1, 3, 5, 7, 9]\n"
     ]
    }
   ],
   "source": [
    "#Program to find the odd numbers in a list\n",
    "\n",
    "\n",
    "l = [1,2,3,4,5,6,7,8,9,10]\n",
    "\n",
    "o = [i for i in l if i % 2 != 0]\n",
    "\n",
    "print(\"Odd numbers among all elements in list 'l' is :\", o)\n",
    "\n"
   ]
  },
  {
   "cell_type": "code",
   "execution_count": 9,
   "metadata": {},
   "outputs": [
    {
     "name": "stdout",
     "output_type": "stream",
     "text": [
      "Modified list after removing all empty lists in a list 'l' is : [1, 2, 4, 5, 7, 8, 10]\n"
     ]
    }
   ],
   "source": [
    "#Program to remove empty list in a list\n",
    "\n",
    "\n",
    "l = [1,2,[],4,5,[],7,8,[],10]\n",
    "\n",
    "li = [i for i in l if i != []]\n",
    "\n",
    "print(\"Modified list after removing all empty lists in a list 'l' is :\", li)\n",
    "\n"
   ]
  },
  {
   "cell_type": "code",
   "execution_count": 10,
   "metadata": {},
   "outputs": [
    {
     "name": "stdout",
     "output_type": "stream",
     "text": [
      "Cloned list of a list 'li' is : [1, 2, [], 4, 5, [], 7, 8, [], 10]\n"
     ]
    }
   ],
   "source": [
    "#Program to clone/copy a list\n",
    "\n",
    "\n",
    "li = [1,2,[],4,5,[],7,8,[],10]\n",
    "\n",
    "cloned_li = [i for i in li]\n",
    "\n",
    "print(\"Cloned list of a list 'li' is :\", cloned_li)\n",
    "\n"
   ]
  },
  {
   "cell_type": "code",
   "execution_count": 21,
   "metadata": {},
   "outputs": [
    {
     "name": "stdout",
     "output_type": "stream",
     "text": [
      "Occurence of 1 in list 'l' is : 1\n",
      "Occurence of 2 in list 'l' is : 1\n",
      "Occurence of [] in list 'l' is : 3\n",
      "Occurence of 4 in list 'l' is : 1\n",
      "Occurence of 5 in list 'l' is : 1\n",
      "Occurence of 7 in list 'l' is : 1\n",
      "Occurence of 8 in list 'l' is : 1\n",
      "Occurence of 10 in list 'l' is : 1\n"
     ]
    }
   ],
   "source": [
    "#Program to count occurences of an element in a list\n",
    "\n",
    "\n",
    "l = [1,2,[],4,5,[],7,8,[],10]\n",
    "\n",
    "\n",
    "for i in range(len(l)):\n",
    "    d = 0\n",
    "    c = 0\n",
    "    for j in l:\n",
    "        if l[i] == j:\n",
    "            c += 1\n",
    "                \n",
    "    if c > 1:\n",
    "        for k in range(0,i):\n",
    "            if l[k] == l[i]:\n",
    "                d = 1\n",
    "                break\n",
    "    if d == 1:\n",
    "        continue\n",
    "    else:\n",
    "        print(\"Occurence of\", l[i], \"in list 'l' is :\", c)    \n",
    "\n"
   ]
  },
  {
   "cell_type": "code",
   "execution_count": null,
   "metadata": {},
   "outputs": [],
   "source": []
  }
 ],
 "metadata": {
  "kernelspec": {
   "display_name": "Python 3",
   "language": "python",
   "name": "python3"
  },
  "language_info": {
   "codemirror_mode": {
    "name": "ipython",
    "version": 3
   },
   "file_extension": ".py",
   "mimetype": "text/x-python",
   "name": "python",
   "nbconvert_exporter": "python",
   "pygments_lexer": "ipython3",
   "version": "3.8.5"
  }
 },
 "nbformat": 4,
 "nbformat_minor": 4
}
