{
 "cells": [
  {
   "cell_type": "code",
   "execution_count": 8,
   "metadata": {},
   "outputs": [
    {
     "name": "stdout",
     "output_type": "stream",
     "text": [
      "4\n",
      "5\n",
      "6\n",
      "[4, 5, 6]\n",
      "[3.6514837167011076, 4.08248290463863, 4.47213595499958]\n"
     ]
    }
   ],
   "source": [
    "#question 1 :\n",
    "\n",
    "import math\n",
    "    \n",
    "D = []\n",
    "g = []\n",
    "    \n",
    "C = 50 \n",
    "\n",
    "H = 30\n",
    "\n",
    "\n",
    "for i in range(3):\n",
    "    \n",
    "    f = int(input())\n",
    "    D.append(f)\n",
    "    \n",
    "print(D)\n",
    "\n",
    "for j in D:\n",
    "\n",
    "    Q = math.sqrt((2 * C * j)/H)\n",
    "    g.append(Q)\n",
    "    \n",
    "    \n",
    "print(g)\n"
   ]
  },
  {
   "cell_type": "code",
   "execution_count": 11,
   "metadata": {},
   "outputs": [
    {
     "name": "stdout",
     "output_type": "stream",
     "text": [
      "Enter no of Rows: 3\n",
      "Enter no of Coloumns: 4\n",
      "[[0, 0, 0, 0], [0, 1, 2, 3], [0, 2, 4, 6]]\n"
     ]
    }
   ],
   "source": [
    "#Question 2 \n",
    "\n",
    "X = int(input(\"Enter no of Rows: \"))\n",
    "Y = int(input(\"Enter no of Coloumns: \"))\n",
    "\n",
    "m = []\n",
    "\n",
    "\n",
    "for i in range(X):\n",
    "    h = []\n",
    "    for j in range(Y):\n",
    "        \n",
    "        h.append(i*j)\n",
    "        \n",
    "    m.append(h)\n",
    "        \n",
    "        \n",
    "print(m)\n",
    "\n"
   ]
  },
  {
   "cell_type": "code",
   "execution_count": 18,
   "metadata": {},
   "outputs": [
    {
     "name": "stdout",
     "output_type": "stream",
     "text": [
      "f\n",
      "a\n",
      "h\n",
      "d\n",
      "['f', 'a', 'h', 'd']\n",
      "['a', 'd', 'f', 'h']\n"
     ]
    }
   ],
   "source": [
    "#Question 3 \n",
    "\n",
    "\n",
    "\n",
    "g = []\n",
    "\n",
    "\n",
    "for i in range(4):\n",
    "    \n",
    "    g.append(input())\n",
    "    \n",
    "print(g)\n",
    "\n",
    "\n",
    "g.sort()\n",
    "\n",
    "print(g) \n",
    "\n",
    "\n",
    "\n",
    "    "
   ]
  },
  {
   "cell_type": "code",
   "execution_count": 25,
   "metadata": {},
   "outputs": [
    {
     "name": "stdout",
     "output_type": "stream",
     "text": [
      "Enter a string: hello world and practice makes perfect and hello world again\n",
      "['again', 'and', 'makes', 'perfect', 'hello', 'practice', 'world']\n",
      "again and hello makes perfect practice world \n"
     ]
    }
   ],
   "source": [
    "#Question 4 \n",
    "\n",
    "\n",
    "\n",
    "z = \"\"\n",
    "\n",
    "o = input(\"Enter a string: \")\n",
    "\n",
    "\n",
    "x = list(set(o.split()))\n",
    "\n",
    "print(x)\n",
    "\n",
    "x.sort()\n",
    "\n",
    "for i in x:\n",
    "    \n",
    "    z = z + i + \" \"\n",
    "    \n",
    "print(z)\n",
    "    \n",
    "\n",
    "    \n",
    "    \n",
    "    "
   ]
  },
  {
   "cell_type": "code",
   "execution_count": 37,
   "metadata": {},
   "outputs": [
    {
     "name": "stdout",
     "output_type": "stream",
     "text": [
      "Letters count is : 10\n",
      "Numbers count is : 3\n"
     ]
    }
   ],
   "source": [
    "#Question 5\n",
    "\n",
    "\n",
    "n = \"hello world! 123\"\n",
    "\n",
    "\n",
    "\n",
    "s = 0\n",
    "f = 0\n",
    "\n",
    "for i in n:\n",
    "\n",
    "    if i.isalpha()== True :\n",
    "        s = s+1\n",
    "        \n",
    "    elif i.isnumeric() == True :\n",
    "        \n",
    "        f = f +1\n",
    "        \n",
    "print(\"Letters count is :\",s)\n",
    "print(\"Numbers count is :\",f)\n",
    "    \n",
    "    \n"
   ]
  },
  {
   "cell_type": "code",
   "execution_count": 41,
   "metadata": {},
   "outputs": [
    {
     "ename": "SyntaxError",
     "evalue": "invalid syntax (<ipython-input-41-324941c3b1a0>, line 12)",
     "output_type": "error",
     "traceback": [
      "\u001b[0;36m  File \u001b[0;32m\"<ipython-input-41-324941c3b1a0>\"\u001b[0;36m, line \u001b[0;32m12\u001b[0m\n\u001b[0;31m    and len(i) > 6 and len(i) < 12 :\u001b[0m\n\u001b[0m                                   ^\u001b[0m\n\u001b[0;31mSyntaxError\u001b[0m\u001b[0;31m:\u001b[0m invalid syntax\n"
     ]
    }
   ],
   "source": [
    "#Question 6 \n",
    "\n",
    "password = input()\n",
    "\n",
    "\n",
    "w = password.split(\",\")\n",
    "\n",
    "print(w)\n",
    "\n",
    "for i in w:\n",
    "    \n",
    "    m = 0\n",
    "\n",
    "    \n",
    "    for j in i :\n",
    "        if (i.() == True) or (i.isupper() == True) or (i.isdigit() == True and (i in [\"@\",\"$\",\"#\"] == True) \n",
    "                                                            and len(i) > 6 and len(i) < 12 :\n",
    "                                                         \n",
    "                                                         \n",
    "                                                         \n",
    "                                                         \n",
    "                                                            \n",
    "                                                            \n",
    "                                                            \n",
    "                                                            print(\"Accepted password is :\" + i)\n",
    "                                                            \n",
    "                                                            \n",
    "                                                            \n",
    "                                                            \n",
    "                                                            \n",
    "                                                            "
   ]
  },
  {
   "cell_type": "code",
   "execution_count": null,
   "metadata": {},
   "outputs": [],
   "source": []
  },
  {
   "cell_type": "code",
   "execution_count": null,
   "metadata": {},
   "outputs": [],
   "source": [
    "ABd1234@1,a F1#,2w3E*,2We3345"
   ]
  },
  {
   "cell_type": "code",
   "execution_count": null,
   "metadata": {},
   "outputs": [],
   "source": []
  }
 ],
 "metadata": {
  "kernelspec": {
   "display_name": "Python 3",
   "language": "python",
   "name": "python3"
  },
  "language_info": {
   "codemirror_mode": {
    "name": "ipython",
    "version": 3
   },
   "file_extension": ".py",
   "mimetype": "text/x-python",
   "name": "python",
   "nbconvert_exporter": "python",
   "pygments_lexer": "ipython3",
   "version": "3.8.5"
  }
 },
 "nbformat": 4,
 "nbformat_minor": 4
}
